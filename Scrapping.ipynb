{
 "cells": [
  {
   "cell_type": "code",
   "execution_count": 34,
   "metadata": {},
   "outputs": [],
   "source": [
    "import os\n",
    "import re\n",
    "import random\n",
    "import requests\n",
    "import pandas as pd\n",
    "from io import BytesIO\n",
    "from queue import Queue\n",
    "from urllib.parse import urlparse\n",
    "\n",
    "from bs4 import BeautifulSoup\n",
    "from selenium import webdriver\n",
    "from selenium.webdriver.common.by import By\n",
    "from selenium.webdriver.support.ui import WebDriverWait\n",
    "from selenium.webdriver.support import expected_conditions as EC\n",
    "from selenium.common.exceptions import NoSuchElementException, TimeoutException\n",
    "from selenium.webdriver.chrome.options import Options\n",
    "from selenium.webdriver.support.ui import Select\n",
    "\n",
    "from PIL import Image\n",
    "from sqlalchemy import create_engine\n",
    "import os\n",
    "import urllib\n",
    "import numpy as np\n",
    "#nltk.download('popular')"
   ]
  },
  {
   "cell_type": "code",
   "execution_count": 15,
   "metadata": {},
   "outputs": [],
   "source": [
    "din_number = \"02529181\"\n",
    "atc=''\n",
    "company=''\n",
    "product=''\n",
    "activeIngredient=''\n",
    "chrome_options = Options()\n",
    "\n",
    "driver = webdriver.Chrome()\n",
    "\n",
    "driver.get(\"https://health-products.canada.ca/dpd-bdpp/info?lang=eng&code=60472\")\n",
    "\n",
    "search_field = driver.find_element(By.ID, \"din\") \n",
    "search_field.send_keys(din_number)\n",
    "search_field = driver.find_element(By.ID, \"atc\") \n",
    "search_field.send_keys(atc)\n",
    "search_field = driver.find_element(By.ID, \"company\") \n",
    "search_field.send_keys(company)\n",
    "search_field = driver.find_element(By.ID, \"product\") \n",
    "search_field.send_keys(product)\n",
    "search_field = driver.find_element(By.ID, \"activeIngredient\") \n",
    "search_field.send_keys(activeIngredient)\n",
    "status_dropdown = driver.find_element(By.ID, \"status\")\n",
    "select = Select(status_dropdown)\n",
    "select.select_by_visible_text(\"Approved\")\n",
    "\n",
    "select = Select(status_dropdown)\n",
    "\n",
    "search_button = driver.find_element(By.XPATH, \"//input[@type='submit'][@class='btn btn-primary mrgn-rght-sm mrgn-lft-md']\")\n",
    "search_button.click()\n",
    "\n",
    "\n",
    "#driver.quit()\n",
    "\n"
   ]
  },
  {
   "cell_type": "code",
   "execution_count": 35,
   "metadata": {},
   "outputs": [],
   "source": [
    "from selenium import webdriver\n",
    "from selenium.webdriver.common.by import By\n",
    "from selenium.webdriver.chrome.options import Options\n",
    "\n",
    "# Configure ChromeOptions for headless mode (optional)\n",
    "chrome_options = Options()\n",
    "chrome_options.add_argument(\"--headless\")\n",
    "query='Amoxicillin'\n",
    "# Initialize the WebDriver with options (if headless mode is desired)\n",
    "driver = webdriver.Chrome()\n",
    "\n",
    "# Navigate to the relevant page (replace with the actual URL)\n",
    "driver.get(\"https://health-products.canada.ca/dpd-bdpp/info?lang=eng&code=60472\")\n",
    "\n",
    "\n"
   ]
  },
  {
   "cell_type": "code",
   "execution_count": 41,
   "metadata": {},
   "outputs": [],
   "source": [
    "resp=requests.get(url='https://health-products.canada.ca/dpd-bdpp/info?lang=eng&code=60472')\n",
    "soup = BeautifulSoup(resp.content, 'html.parser')\n"
   ]
  },
  {
   "cell_type": "code",
   "execution_count": 48,
   "metadata": {},
   "outputs": [],
   "source": [
    "ps=soup.find_all('p', 'col-sm-4')"
   ]
  },
  {
   "cell_type": "code",
   "execution_count": 57,
   "metadata": {},
   "outputs": [
    {
     "data": {
      "text/plain": [
       "'\\nCurrent status date:\\n2023-04-27\\n'"
      ]
     },
     "execution_count": 57,
     "metadata": {},
     "output_type": "execute_result"
    }
   ],
   "source": [
    "ps[1].text"
   ]
  },
  {
   "cell_type": "code",
   "execution_count": null,
   "metadata": {},
   "outputs": [],
   "source": []
  }
 ],
 "metadata": {
  "kernelspec": {
   "display_name": "Python 3",
   "language": "python",
   "name": "python3"
  },
  "language_info": {
   "codemirror_mode": {
    "name": "ipython",
    "version": 3
   },
   "file_extension": ".py",
   "mimetype": "text/x-python",
   "name": "python",
   "nbconvert_exporter": "python",
   "pygments_lexer": "ipython3",
   "version": "3.10.12"
  }
 },
 "nbformat": 4,
 "nbformat_minor": 2
}
